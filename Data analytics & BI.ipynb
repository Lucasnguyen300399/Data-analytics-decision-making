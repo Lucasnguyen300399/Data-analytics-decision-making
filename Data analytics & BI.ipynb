{
  "metadata": {
    "kernelspec": {
      "name": "python",
      "display_name": "Python (Pyodide)",
      "language": "python"
    },
    "language_info": {
      "codemirror_mode": {
        "name": "python",
        "version": 3
      },
      "file_extension": ".py",
      "mimetype": "text/x-python",
      "name": "python",
      "nbconvert_exporter": "python",
      "pygments_lexer": "ipython3",
      "version": "3.8"
    }
  },
  "nbformat_minor": 4,
  "nbformat": 4,
  "cells": [
    {
      "cell_type": "code",
      "source": "#question 1\nimport pandas as pd\nfrom scipy import stats\ndf = pd.read_csv('Question1.csv')\nelec_eng = df[df['Group'] == 'Elec_eng']['Salary']\nmech_eng = df[df['Group'] == 'Mech_eng']['Salary']\n# Perform a one-sided independent t-test\nt_stat, p_val = stats.ttest_ind(elec_eng, mech_eng, alternative='greater')\nt_stat = round(t_stat,4)\np_val = round(p_val,4)\nprint(f'T-statistic: {t_stat}')\nprint(f'P-value: {p_val}')",
      "metadata": {
        "trusted": true
      },
      "outputs": [
        {
          "name": "stdout",
          "text": "T-statistic: 0.793\nP-value: 0.2144\n",
          "output_type": "stream"
        }
      ],
      "execution_count": 6
    },
    {
      "cell_type": "code",
      "source": "#question 2\nimport pandas as pd\nfrom scipy import stats\ndata = pd.read_csv('Question2.csv')\n# Perform the t-test\nt_stat, p_value = stats.ttest_ind(data['A'], data['B'])\nt_stat = round(t_stat, 4)\np_value = round(p_value, 5)\nprint(f'T-statistic: {t_stat}')\nprint(f'P-value: {p_value:.5f}')",
      "metadata": {
        "trusted": true
      },
      "outputs": [
        {
          "name": "stdout",
          "text": "T-statistic: -4.7783\nP-value: 0.00001\n",
          "output_type": "stream"
        }
      ],
      "execution_count": 5
    },
    {
      "cell_type": "code",
      "source": "#question 3\nimport pandas as pd\nfrom scipy import stats\n# Load the data\ndata = pd.read_csv('Question3.csv')\nf_stat, p_value = stats.f_oneway(data[data['Group'] == 'A']['Score'], data[data['Group'] == 'B']['Score'])\nf_stat = round(f_stat,4)\np_value = round(p_value,5)\nprint(f'F-statistic: {f_stat}')\nprint(f'P-value: {p_value}')",
      "metadata": {
        "trusted": true
      },
      "outputs": [
        {
          "name": "stdout",
          "text": "F-statistic: 0.1536\nP-value: 0.69659\n",
          "output_type": "stream"
        }
      ],
      "execution_count": 3
    },
    {
      "cell_type": "code",
      "source": "#question 4 (i)\nfrom scipy import stats\nimport pandas as pd\n\n# Load the data\ndata = pd.read_csv('Question4.csv')\n\n# Perform the Shapiro-Wilk test for normality\nfor campaign in ['Social Media', 'Email Marketing', 'In-Store Promotions']:\n    _, p_value = stats.shapiro(data[data['CampaignType'] == campaign]['SalesIncrease'])\n    print(f'P-value for {campaign} data: {p_value:.5f}')\n\n",
      "metadata": {
        "trusted": true
      },
      "outputs": [
        {
          "name": "stdout",
          "text": "P-value for Social Media data: 0.41943\nP-value for Email Marketing data: 0.48515\nP-value for In-Store Promotions data: 0.89922\nP-value for Levene's test: 0.61470\n",
          "output_type": "stream"
        }
      ],
      "execution_count": 1
    },
    {
      "cell_type": "code",
      "source": "#question 4(ii)\n_, p_value_1 = stats.levene(\n    data[data['CampaignType'] == 'Social Media']['SalesIncrease'],\n    data[data['CampaignType'] == 'Email Marketing']['SalesIncrease'],\n    data[data['CampaignType'] == 'In-Store Promotions']['SalesIncrease']\n)\nprint(f'P-value for Levene\\'s test: {p_value_1:.5f}')",
      "metadata": {
        "trusted": true
      },
      "outputs": [
        {
          "name": "stdout",
          "text": "P-value for Levene's test: 0.61470\n",
          "output_type": "stream"
        }
      ],
      "execution_count": 20
    },
    {
      "cell_type": "code",
      "source": "import pandas as pd\nfrom scipy import stats\n\n# Load the data\ndata = pd.read_csv('Question4.csv')\n\n# Perform one-way ANOVA\nf_val, p_val = stats.f_oneway(\n    data[data['CampaignType'] == 'Social Media']['SalesIncrease'],\n    data[data['CampaignType'] == 'Email Marketing']['SalesIncrease'],\n    data[data['CampaignType'] == 'In-Store Promotions']['SalesIncrease']\n)\n\nprint(f'F-value: {f_val:.5f}')\nprint(f'P-value: {p_val:.5f}')",
      "metadata": {
        "trusted": true
      },
      "outputs": [
        {
          "name": "stdout",
          "text": "F-value: 24.67792\nP-value: 0.00000\n",
          "output_type": "stream"
        }
      ],
      "execution_count": 3
    },
    {
      "cell_type": "code",
      "source": "#question 4(iii)\nimport pandas as pd\nimport numpy as np\nfrom scipy.stats import chi2_contingency\n\n# Load the data\ndata = pd.read_csv('Question4.csv')\n\n# Categorize 'SalesIncrease' into 'Low', 'Medium', 'High'\nbins = [data['SalesIncrease'].min(), data['SalesIncrease'].quantile(0.33), data['SalesIncrease'].quantile(0.67), data['SalesIncrease'].max()]\nlabels = ['Low', 'Medium', 'High']\ndata['SalesIncreaseCategory'] = pd.cut(data['SalesIncrease'], bins=bins, labels=labels)\n\n# Perform Chi-Square test of independence\ncontingency_table = pd.crosstab(data['SalesIncreaseCategory'], data['CampaignType'])\nchi2, p, dof, expected = chi2_contingency(contingency_table)\n\nprint(f'Chi-square statistic: {chi2:.5f}')\nprint(f'P-value: {p:.5f}')\n\n# If p-value is less than 0.05, there is a significant association between 'SalesIncreaseCategory' and 'CampaignType'\nif p < 0.05:\n    print(\"There is a significant association between 'SalesIncreaseCategory' and 'CampaignType'.\")\nelse:\n    print(\"There is no significant association between 'SalesIncreaseCategory' and 'CampaignType'.\")\n\n# Calculate residuals\nresiduals = contingency_table - expected\nstandardized_residuals = residuals / np.sqrt(expected)\n\n# Print standardized residuals\nprint(standardized_residuals)",
      "metadata": {
        "trusted": true,
        "scrolled": true
      },
      "outputs": [
        {
          "name": "stdout",
          "text": "Chi-square statistic: 21.11701\nP-value: 0.00030\nThere is a significant association between 'SalesIncreaseCategory' and 'CampaignType'.\nCampaignType           Email Marketing  In-Store Promotions  Social Media\nSalesIncreaseCategory                                                    \nLow                           0.104031            -2.184657      2.153652\nMedium                        0.834181            -0.492469     -0.353706\nHigh                         -0.934685             2.603048     -1.726920\n",
          "output_type": "stream"
        }
      ],
      "execution_count": 33
    },
    {
      "cell_type": "code",
      "source": "#question 4(iv)\nimport pandas as pd\nfrom scipy import stats\n\n# Load the data\ndata = pd.read_csv('Question4.csv')\n\n# Perform multiple pairwise t-tests\ngroups = data.groupby('CampaignType')\nfor g1, g2 in [('Social Media', 'Email Marketing'), ('Social Media', 'In-Store Promotions'), ('Email Marketing', 'In-Store Promotions')]:\n    t_stat, p_val = stats.ttest_ind(groups.get_group(g1)['SalesIncrease'], groups.get_group(g2)['SalesIncrease'])\n    print(f\"t-test between {g1} and {g2}: t-statistic = {t_stat:.3f}, p-value = {p_val:.3f}\")",
      "metadata": {
        "trusted": true
      },
      "outputs": [
        {
          "name": "stdout",
          "text": "t-test between Social Media and Email Marketing: t-statistic = -2.873, p-value = 0.008\nt-test between Social Media and In-Store Promotions: t-statistic = -6.488, p-value = 0.000\nt-test between Email Marketing and In-Store Promotions: t-statistic = -4.375, p-value = 0.000\n",
          "output_type": "stream"
        }
      ],
      "execution_count": 4
    },
    {
      "cell_type": "code",
      "source": "#question 4(v)\nimport statsmodels.api as sm\nfrom statsmodels.formula.api import ols\n\n# Perform ANOVA\nmodel = ols('SalesIncrease ~ CampaignType', data=data).fit()\nanova_table = sm.stats.anova_lm(model, typ=2)\nprint(anova_table)\n",
      "metadata": {
        "trusted": true
      },
      "outputs": [
        {
          "name": "stdout",
          "text": "                 sum_sq    df          F        PR(>F)\nCampaignType  97.368973   2.0  24.677924  8.180348e-08\nResidual      82.857394  42.0        NaN           NaN\n",
          "output_type": "stream"
        }
      ],
      "execution_count": 5
    }
  ]
}